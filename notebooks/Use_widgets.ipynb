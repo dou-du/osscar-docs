{
 "cells": [
  {
   "cell_type": "markdown",
   "metadata": {},
   "source": [
    "# Widgets in the Jupyter \n",
    "\n",
    "<br>\n",
    "<div style=\"text-align: justify; font-size: large;margin: 50px;\"> \n",
    "In computer software, widgets are the elements of the Graphical User Interfaces (GUIs). For exmaple, a slider to choice the value of the number or simply a textbox to show the information. One can create widgets in Jupyter by using the Jupyter Widgets package (ipywidgets).</div>\n",
    "    \n",
    "[Jupyter Widget Package](https://ipywidgets.readthedocs.io/en/latest/index.html#)"
   ]
  },
  {
   "cell_type": "code",
   "execution_count": 12,
   "metadata": {},
   "outputs": [],
   "source": [
    "%reload_ext reprint_magic"
   ]
  },
  {
   "cell_type": "markdown",
   "metadata": {},
   "source": [
    "The __ipywidgets__ can be installed with pip:\n",
    "\n",
    "```bash\n",
    "pip install ipywidgets\n",
    "```\n",
    "\n",
    "or with conda:\n",
    "```bash\n",
    "conda install -c conda-forge ipywidgets \n",
    "```\n",
    "\n",
    "The extension needs to be enable in Jupyter notebook by:\n",
    "\n",
    "```bash\n",
    "jupyter nbextension enable --py widgetsnbextension\n",
    "```"
   ]
  },
  {
   "cell_type": "markdown",
   "metadata": {},
   "source": [
    "<br>\n",
    "<div style=\"text-align: justify; font-size: large;\"> \n",
    "Import the <strong>ipywidgets</strong> in Jupyter notebook as:\n",
    "</div>"
   ]
  },
  {
   "cell_type": "code",
   "execution_count": 13,
   "metadata": {},
   "outputs": [
    {
     "data": {
      "text/markdown": [
       "<div style=\"border: 1px solid #999; border-radius: 3px;\">\n",
       "\n",
       "```python\n",
       "import ipywidgets as widgets\n",
       "\n",
       "```\n",
       "\n",
       "</div>"
      ],
      "text/plain": [
       "<IPython.core.display.Markdown object>"
      ]
     },
     "metadata": {},
     "output_type": "display_data"
    }
   ],
   "source": [
    "%%reprint \n",
    "import ipywidgets as widgets"
   ]
  },
  {
   "cell_type": "markdown",
   "metadata": {},
   "source": [
    "### Example: create a slider with integer number "
   ]
  },
  {
   "cell_type": "code",
   "execution_count": 14,
   "metadata": {},
   "outputs": [
    {
     "data": {
      "text/markdown": [
       "<div style=\"border: 1px solid #999; border-radius: 3px;\">\n",
       "\n",
       "```python\n",
       "w = widgets.IntSlider(value=0, min=-10, max=10)\n",
       "display(w)\n",
       "\n",
       "```\n",
       "\n",
       "</div>"
      ],
      "text/plain": [
       "<IPython.core.display.Markdown object>"
      ]
     },
     "metadata": {},
     "output_type": "display_data"
    },
    {
     "data": {
      "application/vnd.jupyter.widget-view+json": {
       "model_id": "2c9fb517f0ab433c821c024ab12cb7b2",
       "version_major": 2,
       "version_minor": 0
      },
      "text/plain": [
       "IntSlider(value=0, max=10, min=-10)"
      ]
     },
     "metadata": {},
     "output_type": "display_data"
    }
   ],
   "source": [
    "%%reprint\n",
    "w = widgets.IntSlider(value=0, min=-10, max=10)\n",
    "display(w)"
   ]
  },
  {
   "cell_type": "markdown",
   "metadata": {},
   "source": [
    "<br>\n",
    "<div style=\"text-align: justify; font-size: large;margin: 50px;\"> \n",
    "\"Value\" is the initial value for the integer slider. \"Min\" and \"max\" set the range of the slider. The \"display\" function shows the widget. \n",
    "</div> "
   ]
  },
  {
   "cell_type": "markdown",
   "metadata": {},
   "source": [
    "### Example: A progress bar to display from zero to 100%"
   ]
  },
  {
   "cell_type": "code",
   "execution_count": 15,
   "metadata": {},
   "outputs": [
    {
     "data": {
      "text/markdown": [
       "<div style=\"border: 1px solid #999; border-radius: 3px;\">\n",
       "\n",
       "```python\n",
       "import time \n",
       "\n",
       "\n",
       "w = widgets.IntProgress(\n",
       "    value=0,\n",
       "    min=0,\n",
       "    max=100,\n",
       "    step=1,\n",
       "    description='Loading:',\n",
       "    bar_style='success',\n",
       "    orientation='horizontal'\n",
       ")\n",
       "\n",
       "display(w)\n",
       "\n",
       "x = 0\n",
       "\n",
       "while x <= 100:\n",
       "    w.value += 1\n",
       "    time.sleep(0.02)\n",
       "    x +=1\n",
       "\n",
       "```\n",
       "\n",
       "</div>"
      ],
      "text/plain": [
       "<IPython.core.display.Markdown object>"
      ]
     },
     "metadata": {},
     "output_type": "display_data"
    },
    {
     "data": {
      "application/vnd.jupyter.widget-view+json": {
       "model_id": "0f37c01996174337b66b48074674bdf2",
       "version_major": 2,
       "version_minor": 0
      },
      "text/plain": [
       "IntProgress(value=0, bar_style='success', description='Loading:')"
      ]
     },
     "metadata": {},
     "output_type": "display_data"
    }
   ],
   "source": [
    "%%reprint \n",
    "import time \n",
    "\n",
    "\n",
    "w = widgets.IntProgress(\n",
    "    value=0,\n",
    "    min=0,\n",
    "    max=100,\n",
    "    step=1,\n",
    "    description='Loading:',\n",
    "    bar_style='success',\n",
    "    orientation='horizontal'\n",
    ")\n",
    "\n",
    "display(w)\n",
    "\n",
    "x = 0\n",
    "\n",
    "while x <= 100:\n",
    "    w.value += 1\n",
    "    time.sleep(0.02)\n",
    "    x +=1\n"
   ]
  },
  {
   "cell_type": "markdown",
   "metadata": {},
   "source": [
    "### Example: Textarea to show some text"
   ]
  },
  {
   "cell_type": "code",
   "execution_count": 10,
   "metadata": {},
   "outputs": [
    {
     "data": {
      "text/markdown": [
       "<div style=\"border: 1px solid #999; border-radius: 3px;\">\n",
       "\n",
       "```python\n",
       "w = widgets.Textarea(\n",
       "    value='Hello the world!',\n",
       "    placeholder='Type something',\n",
       "    description='String:',\n",
       "    disabled=False\n",
       ")\n",
       "\n",
       "display(w)\n",
       "\n",
       "```\n",
       "\n",
       "</div>"
      ],
      "text/plain": [
       "<IPython.core.display.Markdown object>"
      ]
     },
     "metadata": {},
     "output_type": "display_data"
    },
    {
     "data": {
      "application/vnd.jupyter.widget-view+json": {
       "model_id": "3de92e20b5634873a2d9d967f4239b10",
       "version_major": 2,
       "version_minor": 0
      },
      "text/plain": [
       "Textarea(value='Hello the world!', description='String:', placeholder='Type something')"
      ]
     },
     "metadata": {},
     "output_type": "display_data"
    }
   ],
   "source": [
    "%%reprint \n",
    "w = widgets.Textarea(\n",
    "    value='Hello the world!',\n",
    "    placeholder='Type something',\n",
    "    description='String:',\n",
    "    disabled=False\n",
    ")\n",
    "\n",
    "display(w)"
   ]
  },
  {
   "cell_type": "markdown",
   "metadata": {},
   "source": [
    "<br>\n",
    "<div style=\"text-align: justify; font-size: large;margin: 50px;\"> \n",
    "There are many different widgets available for different purposes. The widgets have different GUIs and functions. For instance, numeric widgets, boolean widgets, selection widgets and string widgets. You can find all the information at the Jupyter Widgets document homepage:\n",
    "</div>\n",
    "\n",
    "[Jupyter Widgets Homepage](https://ipywidgets.readthedocs.io/en/latest/index.html)\n",
    "\n",
    "<br>\n",
    "<div style=\"text-align: justify; font-size: large;margin: 50px;\"> \n",
    "One can also watch a tutorial about the widgets in Jupyter on Youtube:\n",
    "</div>"
   ]
  },
  {
   "cell_type": "code",
   "execution_count": 11,
   "metadata": {},
   "outputs": [
    {
     "data": {
      "image/jpeg": "[encoded data removed]",
      "text/html": [
       "\n",
       "        <iframe\n",
       "            width=\"700\"\n",
       "            height=\"400\"\n",
       "            src=\"https://www.youtube.com/embed/NBZBjEjN-rU\"\n",
       "            frameborder=\"0\"\n",
       "            allowfullscreen\n",
       "        ></iframe>\n",
       "        "
      ],
      "text/plain": [
       "<IPython.lib.display.YouTubeVideo at 0x7fa25c15f250>"
      ]
     },
     "execution_count": 11,
     "metadata": {},
     "output_type": "execute_result"
    }
   ],
   "source": [
    "from IPython.display import YouTubeVideo\n",
    "\n",
    "YouTubeVideo(\"NBZBjEjN-rU\", height=400, width=700)"
   ]
  },
  {
   "cell_type": "markdown",
   "metadata": {},
   "source": [
    "This work has been done with the support of the EPFL Open Science found [OSSCAR](http://www.osscar.org).\n",
    "\n",
    "<img src=\"./figures/OSSCAR_logo.png\" style=\"height:40px; width: 200px\"/>"
   ]
  }
 ],
 "metadata": {
  "kernelspec": {
   "display_name": "Python 3",
   "language": "python",
   "name": "python3"
  },
  "language_info": {
   "codemirror_mode": {
    "name": "ipython",
    "version": 3
   },
   "file_extension": ".py",
   "mimetype": "text/x-python",
   "name": "python",
   "nbconvert_exporter": "python",
   "pygments_lexer": "ipython3",
   "version": "3.7.4"
  }
 },
 "nbformat": 4,
 "nbformat_minor": 2
}

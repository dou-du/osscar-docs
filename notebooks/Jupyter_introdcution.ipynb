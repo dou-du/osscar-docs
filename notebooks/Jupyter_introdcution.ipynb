{
 "cells": [
  {
   "cell_type": "markdown",
   "metadata": {},
   "source": [
    "## Jupyter notebook\n",
    "\n",
    "<br>\n",
    "<div style=\"text-align: justify; font-size: large;\"> \"The Jupyter Notebook is an open-source web application that allows you to create and share documents that contain live code, equations, visualizations and narrative text. Uses include: data cleaning and transformation, numerical simulation, statistical modeling, data visualization, machine learning, and much more.\"\n",
    "</div>\n",
    "\n",
    "<img src=\"figures/fig_jupyternotebook.png\"\n",
    "     alt=\"Jupyter notebook interface\"\n",
    "     style=\"float: left; margin-right: 10px; height: 400px; width: 500px\" />\n",
    "     \n",
    "__What you are viewing now is in Jupyter notebook.__ \n",
    "\n",
    "[jupyter.org](http://www.jupyter.org)"
   ]
  },
  {
   "cell_type": "markdown",
   "metadata": {},
   "source": [
    "## Installation of the Jupyter notebook\n",
    "\n",
    "Jupyter notebook can be installed by conda. \n",
    "\n",
    "```bash\n",
    "conda install -c conda-forge jupyter\n",
    "```\n",
    "or with pip:\n",
    "```bash\n",
    "pip install jupyter \n",
    "```"
   ]
  },
  {
   "cell_type": "markdown",
   "metadata": {},
   "source": [
    "## Run Jupyter notebook\n",
    "\n",
    "Run the Jupyter notebook in the terminal:\n",
    "\n",
    "```bash\n",
    "jupyter notebook\n",
    "```\n",
    "\n",
    "The terminal should open a webpage to the Jupyter notebook. In the terminal, you will also see the URL link to the Juptyer notebook. The URL link is like localhost:[port]. The port is the port number. You can reopen the Jupyter notebook with this link in any web browser.  "
   ]
  },
  {
   "cell_type": "markdown",
   "metadata": {},
   "source": [
    "## Installation of dependencies/modules \n",
    "\n",
    "\n",
    "In this tutorial, we need five python libraries to install. They are numpy, ipywidgets, ipympl, appmode and IPython. The python libraries can be easily installed by the pip or conda program. For example, install the  numpy library:\n",
    "\n",
    "with pip:\n",
    "```bash\n",
    "pip install numpy\n",
    "```\n",
    "or with conda:\n",
    "```bash\n",
    "conda install -c conda-forge numpy\n",
    "```\n"
   ]
  },
  {
   "cell_type": "markdown",
   "metadata": {},
   "source": [
    "This work has been done with the support of the EPFL Open Science found [OSSCAR](http://www.osscar.org).\n",
    "\n",
    "<img src=\"./figures/OSSCAR_logo.png\" style=\"height:40px; width: 200px\"/>"
   ]
  }
 ],
 "metadata": {
  "kernelspec": {
   "display_name": "Python 3",
   "language": "python",
   "name": "python3"
  },
  "language_info": {
   "codemirror_mode": {
    "name": "ipython",
    "version": 3
   },
   "file_extension": ".py",
   "mimetype": "text/x-python",
   "name": "python",
   "nbconvert_exporter": "python",
   "pygments_lexer": "ipython3",
   "version": "3.7.4"
  }
 },
 "nbformat": 4,
 "nbformat_minor": 2
}

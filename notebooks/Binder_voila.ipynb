{
 "cells": [
  {
   "cell_type": "markdown",
   "metadata": {},
   "source": [
    "# Use Binder with Voila"
   ]
  },
  {
   "cell_type": "markdown",
   "metadata": {},
   "source": [
    "<br>\n",
    "<div style=\"text-align: justify; font-size: large; margin: 50px;\"> \n",
    "    <li> In order to use the voila, one need to install the voila. For the binder cloud, put the package name \"voila\" into the requirements.txt file. </li>\n",
    "    <li> The voila Jupyter server extension is named by \"voila/render\". </li>\n",
    "    \n",
    "    Put the URL in the mybinder.org as shown below:\n",
    "</div>\n",
    "\n",
    "<img src=\"./figures/fig_binderVoila.png\"/>"
   ]
  },
  {
   "cell_type": "markdown",
   "metadata": {},
   "source": [
    "This work has been done with the support of the EPFL Open Science found [OSSCAR](http://www.osscar.org).\n",
    "\n",
    "<img src=\"./figures/OSSCAR_logo.png\" style=\"height:40px; width: 200px\"/>"
   ]
  }
 ],
 "metadata": {
  "kernelspec": {
   "display_name": "Python 3",
   "language": "python",
   "name": "python3"
  },
  "language_info": {
   "codemirror_mode": {
    "name": "ipython",
    "version": 3
   },
   "file_extension": ".py",
   "mimetype": "text/x-python",
   "name": "python",
   "nbconvert_exporter": "python",
   "pygments_lexer": "ipython3",
   "version": "3.7.3"
  }
 },
 "nbformat": 4,
 "nbformat_minor": 4
}

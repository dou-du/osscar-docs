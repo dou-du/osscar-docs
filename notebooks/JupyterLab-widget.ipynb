{
 "cells": [
  {
   "cell_type": "markdown",
   "metadata": {},
   "source": [
    "# Use widgets for the Jupyter Lab"
   ]
  },
  {
   "cell_type": "markdown",
   "metadata": {},
   "source": [
    "## Installation of the ipywidgets package for Jupyter Lab\n",
    "\n",
    "\n",
    "<div style=\"text-align: justify; font-size: large; margin: 50px;\"> \n",
    "    Firstly, install the ipywidgets package by conda:\n",
    "</div>\n",
    "\n",
    "```bash\n",
    "conda install --channel conda-forge ipywidgets\n",
    "```\n",
    "or pip:\n",
    "```bash\n",
    "pip install ipywidgets\n",
    "```\n",
    "\n",
    "<div style=\"text-align: justify; font-size: large; margin: 50px;\"> \n",
    "    Secondly, install nodejs with conda:\n",
    "</div>\n",
    "\n",
    "```bash\n",
    "conda install --channel conda-forge nodejs\n",
    "```\n",
    "<div style=\"text-align: justify; font-size: large; margin: 50px;\"> \n",
    "    Finally, install the labextension with command:\n",
    "</div>\n",
    "\n",
    "```bash\n",
    "jupyter labextension install @jupyter-widgets/jupyterlab-manager\n",
    "```"
   ]
  },
  {
   "cell_type": "markdown",
   "metadata": {},
   "source": [
    "## Use the widgets in Jupyter Lab\n",
    "\n",
    "<div style=\"text-align: justify; font-size: large; margin: 50px;\"> \n",
    "    There is no different to use the widgets in the Jupyter Lab. You can follow the instruction to use the widgets in the Jupyter Notebook. \n",
    "</div>\n"
   ]
  },
  {
   "cell_type": "markdown",
   "metadata": {},
   "source": [
    "This work has been done with the support of the EPFL Open Science found [OSSCAR](http://www.osscar.org).\n",
    "\n",
    "<img src=\"./figures/OSSCAR_logo.png\" style=\"height:40px; width: 200px\"/>"
   ]
  }
 ],
 "metadata": {
  "kernelspec": {
   "display_name": "Python 3",
   "language": "python",
   "name": "python3"
  },
  "language_info": {
   "codemirror_mode": {
    "name": "ipython",
    "version": 3
   },
   "file_extension": ".py",
   "mimetype": "text/x-python",
   "name": "python",
   "nbconvert_exporter": "python",
   "pygments_lexer": "ipython3",
   "version": "3.7.5"
  }
 },
 "nbformat": 4,
 "nbformat_minor": 2
}

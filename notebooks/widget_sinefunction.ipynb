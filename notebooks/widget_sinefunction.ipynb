{
 "cells": [
  {
   "cell_type": "code",
   "execution_count": 429,
   "metadata": {},
   "outputs": [],
   "source": [
    "import math\n",
    "import numpy as np\n",
    "import bqplot.pyplot as pl\n",
    "import matplotlib.pyplot as plt\n",
    "from matplotlib.pyplot import figure\n",
    "from ipywidgets import Accordion, IntSlider, HTMLMath, Dropdown, Box, HBox, VBox, Layout, ColorPicker, Button\n",
    "from ipywidgets import Text\n",
    "from IPython.display import display"
   ]
  },
  {
   "cell_type": "code",
   "execution_count": 431,
   "metadata": {},
   "outputs": [],
   "source": [
    "k_slider = IntSlider(value=0, min=-10, max=10, description = \"$k$\", continuous_update=False)\n",
    "w_slider = IntSlider(value=0, min=-10, max=10, description = \"$w$\", continuous_update=False)\n",
    "cpicker  = ColorPicker(concise=False, description='Pick a color for plot', value='red', disabled=False)\n",
    "save_button = Button(description=\"Save figure\")\n",
    "title_widget = Text(value='Sine function',placeholder='Figure title:', description='String:',disabled=False)\n",
    "\n",
    "type_widget = Dropdown(options=(\n",
    "        (\"Sine function\",\"sin\"),\n",
    "        (\"Cosine function\",\"cos\"),  \n",
    "    ), \n",
    "    description = \"function type\", continuous_update=False, layout=Layout(width='250px'));\n",
    "\n",
    "\n",
    "sine_plot = pl.figure();"
   ]
  },
  {
   "cell_type": "code",
   "execution_count": 432,
   "metadata": {},
   "outputs": [],
   "source": [
    "def get_numerical_array(k_value, w_value, function_type):\n",
    "    x = np.linspace(0, 2 * np.pi, 2000)\n",
    "    if function_type == \"sin\":\n",
    "        y = np.sin(k_value*x + w_value)\n",
    "    elif function_type == \"cos\":\n",
    "        y = np.cos(k_value*x + w_value)\n",
    "    return x, y\n",
    "        "
   ]
  },
  {
   "cell_type": "code",
   "execution_count": 433,
   "metadata": {},
   "outputs": [],
   "source": [
    "def on_parameter_change(change):\n",
    "    x, y = get_numerical_array(k_slider.value, w_slider.value, type_widget.value);\n",
    "    pl.figure(fig=sine_plot)\n",
    "    pl.clear()\n",
    "    pl.plot(x, y, colors=[cpicker.value])\n",
    "    pl.xlim(0, 2*np.pi)\n",
    "    pl.ylim(-1, 1)\n",
    "    pl.xlabel(\"X\")\n",
    "    pl.ylabel(\"Y\")\n",
    "    pl.title(title_widget.value)\n",
    "\n",
    "\n",
    "k_slider.observe(on_parameter_change, names='value', type='change')\n",
    "w_slider.observe(on_parameter_change, names='value', type='change')\n",
    "type_widget.observe(on_parameter_change, names='value', type='change')\n",
    "cpicker.observe(on_parameter_change, names='value', type='change')\n",
    "title_widget.observe(on_parameter_change, names='value', type='change')\n",
    "on_parameter_change(None)\n",
    "\n",
    "def on_button_clicked(b):\n",
    "    fig = pl.figure(fig=sine_plot)\n",
    "    fig.save_png(\"figure.png\")\n",
    "    \n",
    "save_button.on_click(on_button_clicked)"
   ]
  },
  {
   "cell_type": "code",
   "execution_count": 434,
   "metadata": {},
   "outputs": [
    {
     "data": {
      "application/vnd.jupyter.widget-view+json": {
       "model_id": "3594eda8cc1e4c358571d2a5f71391c7",
       "version_major": 2,
       "version_minor": 0
      },
      "text/plain": [
       "HBox(children=(VBox(children=(IntSlider(value=0, continuous_update=False, description='$k$', max=10, min=-10),…"
      ]
     },
     "metadata": {},
     "output_type": "display_data"
    }
   ],
   "source": [
    "box1 = VBox([k_slider, w_slider, type_widget], layout=Layout(width='400px'));\n",
    "box2 = VBox([cpicker, save_button, title_widget], layout=Layout(width='400px'));\n",
    "\n",
    "display(HBox([box1, box2], layout=Layout(width='1000px')))"
   ]
  },
  {
   "cell_type": "code",
   "execution_count": 435,
   "metadata": {},
   "outputs": [
    {
     "data": {
      "application/vnd.jupyter.widget-view+json": {
       "model_id": "247a7dcb93e741eea3fe3ccaab8e7568",
       "version_major": 2,
       "version_minor": 0
      },
      "text/plain": [
       "Box(children=(Figure(axes=[Axis(label='X', scale=LinearScale(max=6.283185307179586, min=0.0), side='bottom'), …"
      ]
     },
     "metadata": {},
     "output_type": "display_data"
    }
   ],
   "source": [
    "sine_plot.layout.width = '100%'\n",
    "sine_plot.layout.max_width = '800px'\n",
    "display(Box(children=[sine_plot], layout=Layout(justify_content='center')))"
   ]
  },
  {
   "cell_type": "code",
   "execution_count": null,
   "metadata": {},
   "outputs": [],
   "source": []
  },
  {
   "cell_type": "code",
   "execution_count": null,
   "metadata": {},
   "outputs": [],
   "source": []
  }
 ],
 "metadata": {
  "kernelspec": {
   "display_name": "Python 3",
   "language": "python",
   "name": "python3"
  },
  "language_info": {
   "codemirror_mode": {
    "name": "ipython",
    "version": 3
   },
   "file_extension": ".py",
   "mimetype": "text/x-python",
   "name": "python",
   "nbconvert_exporter": "python",
   "pygments_lexer": "ipython3",
   "version": "3.6.8"
  }
 },
 "nbformat": 4,
 "nbformat_minor": 2
}
